{
 "cells": [
  {
   "cell_type": "code",
   "execution_count": 40,
   "metadata": {},
   "outputs": [],
   "source": [
    "import csv\n"
   ]
  },
  {
   "cell_type": "markdown",
   "metadata": {},
   "source": [
    "Table 1 Generation"
   ]
  },
  {
   "cell_type": "code",
   "execution_count": 41,
   "metadata": {},
   "outputs": [
    {
     "name": "stdout",
     "output_type": "stream",
     "text": [
      "apps\n",
      "E:  61294\n",
      "C:  74341\n",
      "R:  106478\n",
      "W:  278041\n",
      "Total:  520154\n",
      "Avg:  4.436962604067149\n",
      "clippy\n",
      "E:  998796\n",
      "C:  629546\n",
      "R:  158464\n",
      "W:  1599799\n",
      "Total:  3386605\n",
      "Avg:  24.249794135548317\n",
      "codexglue\n",
      "E:  758615\n",
      "C:  167857\n",
      "R:  70019\n",
      "W:  1795456\n",
      "Total:  2791947\n",
      "Avg:  11.08707410054801\n"
     ]
    }
   ],
   "source": [
    "\n",
    "filenames = [\"apps\",\"clippy\",\"codexglue\"]\n",
    "for filename in filenames:\n",
    "    print(filename)\n",
    "    e,c,r,w = 0,0,0,0\n",
    "    with open(\"./RQ1_Result/Pylint/\"+filename+\".csv\", 'r') as file:\n",
    "        csvreader = csv.reader(file)\n",
    "        for row in csvreader:\n",
    "            if(row[0]=='Message'):\n",
    "                continue\n",
    "            if(row[0].startswith('E')):\n",
    "                e+=int(row[1])\n",
    "            elif(row[0].startswith('C')):\n",
    "                c+=int(row[1])\n",
    "            elif(row[0].startswith('R')):\n",
    "                r+=int(row[1])\n",
    "            elif(row[0].startswith('W')):\n",
    "                w+=int(row[1])\n",
    "    print(\"E: \",e)\n",
    "    print(\"C: \",c)\n",
    "    print(\"R: \",r)\n",
    "    print(\"W: \",w)\n",
    "    print(\"Total: \",e+c+r+w)\n",
    "    if filename == \"apps\":\n",
    "        print(\"Avg: \",(e+c+r+w)/117232)\n",
    "    elif filename == \"clippy\":\n",
    "        print(\"Avg: \",(e+c+r+w)/139655)\n",
    "    elif filename == \"codexglue\":\n",
    "        print(\"Avg: \",(e+c+r+w)/251820)"
   ]
  },
  {
   "cell_type": "markdown",
   "metadata": {},
   "source": [
    "Table 2 Generation"
   ]
  },
  {
   "cell_type": "code",
   "execution_count": 42,
   "metadata": {},
   "outputs": [],
   "source": [
    "from collections import defaultdict\n",
    "import json"
   ]
  },
  {
   "cell_type": "code",
   "execution_count": 43,
   "metadata": {},
   "outputs": [
    {
     "name": "stdout",
     "output_type": "stream",
     "text": [
      "apps\n",
      "clippy\n",
      "codexglue\n"
     ]
    }
   ],
   "source": [
    "pylint = defaultdict(list)\n",
    "filenames = [\"apps\",\"clippy\",\"codexglue\"]\n",
    "for filename in filenames:\n",
    "    print(filename)\n",
    "    with open(\"./RQ1_Result/Pylint/\"+filename+\".csv\", 'r') as file:\n",
    "        csvreader = csv.reader(file)\n",
    "        for row in csvreader:\n",
    "            if(row[0]=='Message'):\n",
    "                continue\n",
    "            if filename == \"apps\":\n",
    "                pylint[row[0]].append(int(row[1])/117232)\n",
    "            elif filename == \"clippy\":\n",
    "                pylint[row[0]].append(int(row[1])/139655)\n",
    "            elif filename == \"codexglue\":\n",
    "                pylint[row[0]].append(int(row[1])/251820)            \n",
    "numDict = defaultdict(int)\n",
    "for key in pylint:\n",
    "    numDict[key] = sum(pylint[key])\n",
    "    pylint[key].append(sum(pylint[key]))\n",
    "jsonData = json.dumps(pylint)\n",
    "jsonFile = open(\"pylint_result_modified.json\", \"w\")\n",
    "jsonFile.write(jsonData)\n",
    "jsonFile.close()\n",
    "numDict = dict(sorted(numDict.items(), key=lambda item: item[1]))\n",
    "jsonData = json.dumps(numDict)\n",
    "\n",
    "jsonFile = open(\"pylint_result_total.json\", \"w\")\n",
    "jsonFile.write(jsonData)\n",
    "jsonFile.close()"
   ]
  },
  {
   "cell_type": "markdown",
   "metadata": {},
   "source": [
    "Table 3 and 4 Generation"
   ]
  },
  {
   "cell_type": "code",
   "execution_count": 44,
   "metadata": {},
   "outputs": [
    {
     "name": "stdout",
     "output_type": "stream",
     "text": [
      "apps\n",
      "Total:  2533\n",
      "Total Type:  15\n",
      "Avg:  0.021606728538283063\n",
      "{'B107_hardcoded_password_default': 1, 'B607_start_process_with_partial_path': 1, 'B602_subprocess_popen_with_shell_equals_true': 1, 'B603_subprocess_without_shell_equals_true': 3, 'B605_start_process_with_a_shell': 5, 'B404_blacklist': 5, 'B102_exec_used': 6, 'B310_blacklist': 7, 'B303_blacklist': 11, 'B112_try_except_continue': 19, 'B105_hardcoded_password_string': 23, 'B311_blacklist': 302, 'B101_assert_used': 329, 'B110_try_except_pass': 591, 'B307_blacklist': 1229}\n",
      "codeclippy\n",
      "Total:  87766\n",
      "Total Type:  64\n",
      "Avg:  0.6284486770971323\n",
      "{'B325_blacklist': 1, 'B304_blacklist': 1, 'B611_django_rawsql_used': 1, 'B412_blacklist': 1, 'B407_blacklist': 2, 'B316_blacklist': 2, 'B319_blacklist': 2, 'B504_ssl_with_no_version': 3, 'B505_weak_cryptographic_key': 3, 'B409_blacklist': 4, 'B302_blacklist': 6, 'B317_blacklist': 7, 'B309_blacklist': 8, 'B502_ssl_with_bad_version': 9, 'B702_use_of_mako_templates': 10, 'B323_blacklist': 10, 'B321_blacklist': 15, 'B401_blacklist': 15, 'B312_blacklist': 16, 'B402_blacklist': 19, 'B324_hashlib': 20, 'B313_blacklist': 21, 'B701_jinja2_autoescape_false': 25, 'B201_flask_debug_true': 26, 'B411_blacklist': 26, 'B306_blacklist': 35, 'B406_blacklist': 36, 'B601_paramiko_calls': 40, 'B103_set_bad_file_permissions': 47, 'B606_start_process_with_no_shell': 71, 'B318_blacklist': 80, 'B703_django_mark_safe': 84, 'B320_blacklist': 84, 'B413_blacklist': 88, 'B308_blacklist': 89, 'B604_any_other_function_with_shell_equals_true': 94, 'B408_blacklist': 103, 'B112_try_except_continue': 106, 'B610_django_extra_used': 119, 'B107_hardcoded_password_default': 128, 'B501_request_with_no_cert_validation': 167, 'B410_blacklist': 189, 'B314_blacklist': 193, 'B104_hardcoded_bind_all_interfaces': 232, 'B405_blacklist': 249, 'B506_yaml_load': 253, 'B102_exec_used': 331, 'B303_blacklist': 383, 'B602_subprocess_popen_with_shell_equals_true': 468, 'B310_blacklist': 526, 'B608_hardcoded_sql_expressions': 566, 'B108_hardcoded_tmp_directory': 632, 'B307_blacklist': 818, 'B106_hardcoded_password_funcarg': 1015, 'B605_start_process_with_a_shell': 1036, 'B607_start_process_with_partial_path': 1046, 'B403_blacklist': 1082, 'B301_blacklist': 1132, 'B105_hardcoded_password_string': 1243, 'B404_blacklist': 1282, 'B110_try_except_pass': 1345, 'B603_subprocess_without_shell_equals_true': 1594, 'B311_blacklist': 4280, 'B101_assert_used': 66247}\n",
      "codexglue\n",
      "Total:  18599\n",
      "Total Type:  53\n",
      "Avg:  0.0738583114923358\n",
      "{'B702_use_of_mako_templates': 1, 'B319_blacklist': 1, 'B411_blacklist': 1, 'B401_blacklist': 1, 'B406_blacklist': 1, 'B325_blacklist': 2, 'B313_blacklist': 2, 'B402_blacklist': 4, 'B502_ssl_with_bad_version': 4, 'B408_blacklist': 6, 'B309_blacklist': 7, 'B312_blacklist': 8, 'B323_blacklist': 9, 'B413_blacklist': 10, 'B302_blacklist': 10, 'B506_yaml_load': 11, 'B610_django_extra_used': 11, 'B320_blacklist': 11, 'B321_blacklist': 13, 'B324_hashlib': 13, 'B405_blacklist': 15, 'B504_ssl_with_no_version': 17, 'B410_blacklist': 18, 'B314_blacklist': 19, 'B317_blacklist': 20, 'B318_blacklist': 20, 'B306_blacklist': 24, 'B701_jinja2_autoescape_false': 28, 'B103_set_bad_file_permissions': 32, 'B606_start_process_with_no_shell': 33, 'B403_blacklist': 40, 'B106_hardcoded_password_funcarg': 44, 'B501_request_with_no_cert_validation': 55, 'B404_blacklist': 74, 'B112_try_except_continue': 79, 'B107_hardcoded_password_default': 102, 'B104_hardcoded_bind_all_interfaces': 111, 'B102_exec_used': 153, 'B108_hardcoded_tmp_directory': 164, 'B604_any_other_function_with_shell_equals_true': 204, 'B605_start_process_with_a_shell': 273, 'B602_subprocess_popen_with_shell_equals_true': 285, 'B105_hardcoded_password_string': 291, 'B301_blacklist': 302, 'B307_blacklist': 311, 'B310_blacklist': 348, 'B608_hardcoded_sql_expressions': 358, 'B303_blacklist': 425, 'B607_start_process_with_partial_path': 506, 'B311_blacklist': 1016, 'B110_try_except_pass': 1233, 'B603_subprocess_without_shell_equals_true': 1389, 'B101_assert_used': 10484}\n"
     ]
    }
   ],
   "source": [
    "\n",
    "filenames = [\"apps\",\"codeclippy\",\"codexglue\"]\n",
    "for filename in filenames:\n",
    "    print(filename)\n",
    "    total = 0\n",
    "    total_type = 0\n",
    "    bandit = defaultdict(int)\n",
    "\n",
    "    with open(\"./RQ1_Result/Bandit/\"+filename+\"_bandit.csv\", 'r') as file:\n",
    "        csvreader = csv.reader(file)\n",
    "        for row in csvreader:\n",
    "            if(row[0]=='Message'):\n",
    "                continue\n",
    "            total+=int(row[1])\n",
    "            total_type+=1\n",
    "            bandit[row[0]] = int(row[1])\n",
    "    \n",
    "    print(\"Total: \",total)\n",
    "    print(\"Total Type: \",total_type)\n",
    "    if filename == \"apps\":\n",
    "        print(\"Avg: \",(total)/117232)\n",
    "    elif filename == \"codeclippy\":\n",
    "        print(\"Avg: \",(total)/139655)\n",
    "    elif filename == \"codexglue\":\n",
    "        print(\"Avg: \",(total)/251820)\n",
    "    numDict = dict(sorted(bandit.items(), key=lambda item: item[1]))\n",
    "    print(numDict)"
   ]
  },
  {
   "cell_type": "markdown",
   "metadata": {},
   "source": [
    "Table 5 Generation"
   ]
  },
  {
   "cell_type": "code",
   "execution_count": 45,
   "metadata": {},
   "outputs": [
    {
     "name": "stdout",
     "output_type": "stream",
     "text": [
      "gpt-code-clippy-125M-1024-f\n",
      "E:  237\n",
      "C:  109\n",
      "R:  60\n",
      "W:  489\n",
      "Total:  895\n",
      "Avg:  0.5457317073170732\n",
      "gpt-neo-125M-code-clippy-code-search-py\n",
      "E:  136\n",
      "C:  73\n",
      "R:  61\n",
      "W:  166\n",
      "Total:  436\n",
      "Avg:  0.2658536585365854\n",
      "gpt-neo-125M\n",
      "E:  288\n",
      "C:  108\n",
      "R:  83\n",
      "W:  356\n",
      "Total:  835\n",
      "Avg:  0.5091463414634146\n",
      "gpt-neo-125M-code-clippy-dedup-2048\n",
      "E:  184\n",
      "C:  21\n",
      "R:  0\n",
      "W:  225\n",
      "Total:  430\n",
      "Avg:  0.2621951219512195\n",
      "gpt-neo-125M-apps\n",
      "E:  201\n",
      "C:  110\n",
      "R:  108\n",
      "W:  557\n",
      "Total:  976\n",
      "Avg:  0.5951219512195122\n",
      "gpt-neo-125M-code-clippy-dedup-filtered-no-resize-2048bs\n",
      "E:  281\n",
      "C:  132\n",
      "R:  81\n",
      "W:  444\n",
      "Total:  938\n",
      "Avg:  0.5719512195121951\n",
      "gpt-neo-125M-code-clippy\n",
      "E:  57\n",
      "C:  150\n",
      "R:  6\n",
      "W:  635\n",
      "Total:  848\n",
      "Avg:  0.5170731707317073\n",
      "gpt-neo-125M-code-search-all\n",
      "E:  1286\n",
      "C:  558\n",
      "R:  351\n",
      "W:  792\n",
      "Total:  2987\n",
      "Avg:  1.821341463414634\n",
      "gpt-neo-125M-code-clippy-code-search-all\n",
      "E:  89\n",
      "C:  74\n",
      "R:  64\n",
      "W:  173\n",
      "Total:  400\n",
      "Avg:  0.24390243902439024\n",
      "gpt-neo-125M-code-search-py\n",
      "E:  1322\n",
      "C:  568\n",
      "R:  492\n",
      "W:  696\n",
      "Total:  3078\n",
      "Avg:  1.8768292682926828\n"
     ]
    }
   ],
   "source": [
    "\n",
    "filenames = ['gpt-code-clippy-125M-1024-f', 'gpt-neo-125M-code-clippy-code-search-py', 'gpt-neo-125M', 'gpt-neo-125M-code-clippy-dedup-2048', 'gpt-neo-125M-apps',\n",
    "              'gpt-neo-125M-code-clippy-dedup-filtered-no-resize-2048bs', 'gpt-neo-125M-code-clippy', 'gpt-neo-125M-code-search-all', 'gpt-neo-125M-code-clippy-code-search-all', 'gpt-neo-125M-code-search-py']\n",
    "for filename in filenames:\n",
    "    print(filename)\n",
    "    e,c,r,w = 0,0,0,0\n",
    "    with open(\"./RQ2_Final/Pylint/\"+filename+\".csv\", 'r') as file:\n",
    "        csvreader = csv.reader(file)\n",
    "        for row in csvreader:\n",
    "            if(row[0]=='Message'):\n",
    "                continue\n",
    "            if(row[0].startswith('E')):\n",
    "                e+=int(row[1])\n",
    "            elif(row[0].startswith('C')):\n",
    "                c+=int(row[1])\n",
    "            elif(row[0].startswith('R')):\n",
    "                r+=int(row[1])\n",
    "            elif(row[0].startswith('W')):\n",
    "                w+=int(row[1])\n",
    "    print(\"E: \",e)\n",
    "    print(\"C: \",c)\n",
    "    print(\"R: \",r)\n",
    "    print(\"W: \",w)\n",
    "    print(\"Total: \",e+c+r+w)\n",
    "    print(\"Avg: \",(e+c+r+w)/1640)"
   ]
  },
  {
   "cell_type": "markdown",
   "metadata": {},
   "source": [
    "Table 6 Generation"
   ]
  },
  {
   "cell_type": "code",
   "execution_count": 46,
   "metadata": {},
   "outputs": [
    {
     "name": "stdout",
     "output_type": "stream",
     "text": [
      "gpt-code-clippy-125M-1024-f\n",
      "gpt-neo-125M-code-clippy-code-search-py\n",
      "gpt-neo-125M\n",
      "gpt-neo-125M-code-clippy-dedup-2048\n",
      "gpt-neo-125M-apps\n",
      "gpt-neo-125M-code-clippy-dedup-filtered-no-resize-2048bs\n",
      "gpt-neo-125M-code-clippy\n",
      "gpt-neo-125M-code-search-all\n",
      "gpt-neo-125M-code-clippy-code-search-all\n",
      "gpt-neo-125M-code-search-py\n"
     ]
    }
   ],
   "source": [
    "pylint = defaultdict(list)\n",
    "filenames = ['gpt-code-clippy-125M-1024-f', 'gpt-neo-125M-code-clippy-code-search-py', 'gpt-neo-125M', 'gpt-neo-125M-code-clippy-dedup-2048', 'gpt-neo-125M-apps',\n",
    "              'gpt-neo-125M-code-clippy-dedup-filtered-no-resize-2048bs', 'gpt-neo-125M-code-clippy', 'gpt-neo-125M-code-search-all', 'gpt-neo-125M-code-clippy-code-search-all', 'gpt-neo-125M-code-search-py']\n",
    "for filename in filenames:\n",
    "    print(filename)\n",
    "    with open(\"./RQ2_Final/Pylint/\"+filename+\".csv\", 'r') as file:\n",
    "        csvreader = csv.reader(file)\n",
    "        for row in csvreader:\n",
    "            if(row[0]=='Message'):\n",
    "                continue\n",
    "            pylint[row[0]].append(int(row[1]))          \n",
    "numDict = defaultdict(int)\n",
    "for key in pylint:\n",
    "    numDict[key] = len(pylint[key])\n",
    "    pylint[key].append(sum(pylint[key]))\n",
    "jsonData = json.dumps(pylint)\n",
    "jsonFile = open(\"pylint_result_modified_rq2.json\", \"w\")\n",
    "jsonFile.write(jsonData)\n",
    "jsonFile.close()\n",
    "numDict = dict(sorted(numDict.items(), key=lambda item: item[1]))\n",
    "jsonData = json.dumps(numDict)\n",
    "\n",
    "jsonFile = open(\"pylint_result_total_rq2.json\", \"w\")\n",
    "jsonFile.write(jsonData)\n",
    "jsonFile.close()"
   ]
  },
  {
   "cell_type": "markdown",
   "metadata": {},
   "source": [
    "Table 7 Generation"
   ]
  },
  {
   "cell_type": "code",
   "execution_count": 47,
   "metadata": {},
   "outputs": [
    {
     "name": "stdout",
     "output_type": "stream",
     "text": [
      "gpt-code-clippy-125M-1024-f\n",
      "Total:  11\n",
      "Total Type:  1\n",
      "{'B101_assert_used': 11}\n",
      "\n",
      "gpt-neo-125M-code-clippy-code-search-py\n",
      "Total:  10\n",
      "Total Type:  1\n",
      "{'B101_assert_used': 10}\n",
      "\n",
      "gpt-neo-125M\n",
      "Total:  9\n",
      "Total Type:  1\n",
      "{'B101_assert_used': 9}\n",
      "\n",
      "gpt-neo-125M-code-clippy-dedup-2048\n",
      "Total:  5\n",
      "Total Type:  1\n",
      "{'B101_assert_used': 5}\n",
      "\n",
      "gpt-neo-125M-apps\n",
      "Total:  2\n",
      "Total Type:  2\n",
      "{'B307_blacklist': 1, 'B101_assert_used': 1}\n",
      "\n",
      "gpt-neo-125M-code-clippy-dedup-filtered-no-resize-2048bs\n",
      "Total:  21\n",
      "Total Type:  2\n",
      "{'B311_blacklist': 1, 'B101_assert_used': 20}\n",
      "\n",
      "gpt-neo-125M-code-clippy\n",
      "Total:  0\n",
      "Total Type:  0\n",
      "{}\n",
      "\n",
      "gpt-neo-125M-code-search-all\n",
      "Total:  73\n",
      "Total Type:  6\n",
      "{'B110_try_except_pass': 1, 'B307_blacklist': 1, 'B112_try_except_continue': 1, 'B324_hashlib': 9, 'B311_blacklist': 13, 'B101_assert_used': 48}\n",
      "\n",
      "gpt-neo-125M-code-clippy-code-search-all\n",
      "Total:  10\n",
      "Total Type:  1\n",
      "{'B101_assert_used': 10}\n",
      "\n",
      "gpt-neo-125M-code-search-py\n",
      "Total:  43\n",
      "Total Type:  4\n",
      "{'B110_try_except_pass': 1, 'B311_blacklist': 1, 'B324_hashlib': 2, 'B101_assert_used': 39}\n",
      "\n"
     ]
    }
   ],
   "source": [
    "\n",
    "filenames = ['gpt-code-clippy-125M-1024-f', 'gpt-neo-125M-code-clippy-code-search-py', 'gpt-neo-125M', 'gpt-neo-125M-code-clippy-dedup-2048', 'gpt-neo-125M-apps',\n",
    "              'gpt-neo-125M-code-clippy-dedup-filtered-no-resize-2048bs', 'gpt-neo-125M-code-clippy', 'gpt-neo-125M-code-search-all', 'gpt-neo-125M-code-clippy-code-search-all', 'gpt-neo-125M-code-search-py']\n",
    "for filename in filenames:\n",
    "    print(filename)\n",
    "    total = 0\n",
    "    total_type = 0\n",
    "    bandit = defaultdict(int)\n",
    "\n",
    "    with open(\"./RQ2_Final/Bandit/\"+filename+\".csv\", 'r') as file:\n",
    "        csvreader = csv.reader(file)\n",
    "        for row in csvreader:\n",
    "            if(row[0]=='Message'):\n",
    "                continue\n",
    "            total+=int(row[1])\n",
    "            total_type+=1\n",
    "            bandit[row[0]] = int(row[1])\n",
    "    \n",
    "    print(\"Total: \",total)\n",
    "    print(\"Total Type: \",total_type)\n",
    "\n",
    "    numDict = dict(sorted(bandit.items(), key=lambda item: item[1]))\n",
    "    print(numDict)\n",
    "    print()"
   ]
  },
  {
   "cell_type": "markdown",
   "metadata": {},
   "source": [
    "Table 8 Generation"
   ]
  },
  {
   "cell_type": "code",
   "execution_count": 48,
   "metadata": {},
   "outputs": [
    {
     "name": "stdout",
     "output_type": "stream",
     "text": [
      "0\n",
      "E:  12\n",
      "C:  57\n",
      "R:  18\n",
      "W:  22\n",
      "Total:  109\n",
      "Avg:  0.6646341463414634\n",
      "1\n",
      "E:  9\n",
      "C:  55\n",
      "R:  29\n",
      "W:  23\n",
      "Total:  116\n",
      "Avg:  0.7073170731707317\n",
      "2\n",
      "E:  10\n",
      "C:  55\n",
      "R:  36\n",
      "W:  27\n",
      "Total:  128\n",
      "Avg:  0.7804878048780488\n",
      "3\n",
      "E:  8\n",
      "C:  51\n",
      "R:  31\n",
      "W:  23\n",
      "Total:  113\n",
      "Avg:  0.6890243902439024\n"
     ]
    }
   ],
   "source": [
    "\n",
    "for i in range(4):\n",
    "    print(i)\n",
    "    e,c,r,w = 0,0,0,0\n",
    "    with open(\"./RQ3_Final/Pylint/HumanEval_\"+str(i)+\".csv\", 'r') as file:\n",
    "        csvreader = csv.reader(file)\n",
    "        for row in csvreader:\n",
    "            if(row[0]=='Message'):\n",
    "                continue\n",
    "            if(row[0].startswith('E')):\n",
    "                e+=int(row[1])\n",
    "            elif(row[0].startswith('C')):\n",
    "                c+=int(row[1])\n",
    "            elif(row[0].startswith('R')):\n",
    "                r+=int(row[1])\n",
    "            elif(row[0].startswith('W')):\n",
    "                w+=int(row[1])\n",
    "    print(\"E: \",e)\n",
    "    print(\"C: \",c)\n",
    "    print(\"R: \",r)\n",
    "    print(\"W: \",w)\n",
    "    print(\"Total: \",e+c+r+w)\n",
    "    print(\"Avg: \",(e+c+r+w)/164)"
   ]
  },
  {
   "cell_type": "markdown",
   "metadata": {},
   "source": [
    "Table 9 Generation"
   ]
  },
  {
   "cell_type": "code",
   "execution_count": 49,
   "metadata": {},
   "outputs": [
    {
     "name": "stdout",
     "output_type": "stream",
     "text": [
      "dict_keys(['C0200-consider-using-enumerate', 'R1710-inconsistent-return-statements', 'E0602-undefined-variable', 'C0301-line-too-long', 'W0613-unused-argument', 'W0108-unnecessary-lambda', 'W0612-unused-variable', 'R1705-no-else-return', 'C0123-unidiomatic-typecheck', 'W0105-pointless-string-statement', 'R1719-simplifiable-if-expression', 'R1716-chained-comparison', 'W0622-redefined-builtin', 'C0206-consider-using-dict-items', 'W0311-bad-indentation', 'R1703-simplifiable-if-statement', 'R1718-consider-using-set-comprehension', 'W0107-unnecessary-pass', 'W0127-self-assigning-variable', 'R0911-too-many-return-statements'])\n"
     ]
    }
   ],
   "source": [
    "pylint = defaultdict(list)\n",
    "for i in range(4):\n",
    "    e,c,r,w = 0,0,0,0\n",
    "    with open(\"./RQ3_Final/Pylint/HumanEval_\"+str(i)+\".csv\", 'r') as file:\n",
    "        csvreader = csv.reader(file)\n",
    "        for row in csvreader:\n",
    "            if(row[0]=='Message'):\n",
    "                continue\n",
    "            pylint[row[0]].append(int(row[1]))          \n",
    "\n",
    "print(pylint.keys())"
   ]
  }
 ],
 "metadata": {
  "kernelspec": {
   "display_name": "Python 3.9.4 64-bit ('3.9.4')",
   "language": "python",
   "name": "python3"
  },
  "language_info": {
   "codemirror_mode": {
    "name": "ipython",
    "version": 3
   },
   "file_extension": ".py",
   "mimetype": "text/x-python",
   "name": "python",
   "nbconvert_exporter": "python",
   "pygments_lexer": "ipython3",
   "version": "3.9.4"
  },
  "orig_nbformat": 4,
  "vscode": {
   "interpreter": {
    "hash": "452664ae0eb597dd3a1b83725f0d9ce2a5dbc90def01fdcd30762fd3552c6140"
   }
  }
 },
 "nbformat": 4,
 "nbformat_minor": 2
}
